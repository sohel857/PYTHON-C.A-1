{
 "cells": [
  {
   "cell_type": "code",
   "execution_count": 1,
   "id": "b2d402c0-2c1a-4acc-b0cb-be50ccf318d9",
   "metadata": {},
   "outputs": [
    {
     "name": "stdin",
     "output_type": "stream",
     "text": [
      "Enter the first number:  112\n",
      "Enter the second number:  78\n",
      "Enter the third number:  57\n"
     ]
    },
    {
     "name": "stdout",
     "output_type": "stream",
     "text": [
      "The sum of the three numbers is: 247.0\n",
      "The average of the three numbers is: 82.33333333333333\n"
     ]
    }
   ],
   "source": [
    "#Q1: Function to calculate the sum and average of three float numbers\n",
    "def calculate_sum_and_average(num1, num2, num3):\n",
    "    # Calculate the sum of the numbers\n",
    "    total_sum = num1 + num2 + num3\n",
    "    # Calculate the average\n",
    "    average = total_sum / 3\n",
    "    return total_sum, average\n",
    "\n",
    "# Input: Three float numbers\n",
    "number1 = float(input(\"Enter the first number: \"))\n",
    "number2 = float(input(\"Enter the second number: \"))\n",
    "number3 = float(input(\"Enter the third number: \"))\n",
    "\n",
    "# Calculate sum and average\n",
    "sum_of_numbers, avg_of_numbers = calculate_sum_and_average(number1, number2, number3)\n",
    "\n",
    "# Output: Display the sum and average\n",
    "print(f\"The sum of the three numbers is: {sum_of_numbers}\")\n",
    "print(f\"The average of the three numbers is: {avg_of_numbers}\")\n"
   ]
  },
  {
   "cell_type": "code",
   "execution_count": 2,
   "id": "a509ef85-e57d-4268-8aae-0599b8230b2c",
   "metadata": {},
   "outputs": [
    {
     "name": "stdout",
     "output_type": "stream",
     "text": [
      "The volume of the sphere with radius 6 cm is: 904.78 cubic cm\n"
     ]
    }
   ],
   "source": [
    "#Q2:\n",
    "import math\n",
    "\n",
    "# Function to calculate the volume of a sphere\n",
    "def calculate_sphere_volume(radius):\n",
    "    # Formula to calculate the volume of a sphere: (4/3) * π * r^3\n",
    "    volume = (4/3) * math.pi * (radius ** 3)\n",
    "    return volume\n",
    "\n",
    "# Given radius\n",
    "radius = 6  # in cm\n",
    "\n",
    "# Calculate the volume of the sphere\n",
    "volume_of_sphere = calculate_sphere_volume(radius)\n",
    "\n",
    "# Output: Display the volume\n",
    "print(f\"The volume of the sphere with radius {radius} cm is: {volume_of_sphere:.2f} cubic cm\")\n"
   ]
  },
  {
   "cell_type": "code",
   "execution_count": 3,
   "id": "2123ef61-f625-4e37-8a2c-8f53e459a30c",
   "metadata": {},
   "outputs": [
    {
     "name": "stdin",
     "output_type": "stream",
     "text": [
      "Enter the radius of the circle:  10\n"
     ]
    },
    {
     "name": "stdout",
     "output_type": "stream",
     "text": [
      "The area of the circle with radius 10.0 cm is: 314.16 square cm\n"
     ]
    }
   ],
   "source": [
    "#Q3:\n",
    "import math\n",
    "\n",
    "# Function to calculate the area of a circle\n",
    "def calculate_circle_area(radius):\n",
    "    # Formula to calculate the area of a circle: π * r^2\n",
    "    area = math.pi * (radius ** 2)\n",
    "    return area\n",
    "\n",
    "# Input: Radius of the circle\n",
    "radius = float(input(\"Enter the radius of the circle: \"))\n",
    "\n",
    "# Calculate the area of the circle\n",
    "area_of_circle = calculate_circle_area(radius)\n",
    "\n",
    "# Output: Display the area\n",
    "print(f\"The area of the circle with radius {radius} cm is: {area_of_circle:.2f} square cm\")\n"
   ]
  },
  {
   "cell_type": "code",
   "execution_count": 4,
   "id": "ee39915d-c15a-4812-8e7a-2848d1f28406",
   "metadata": {},
   "outputs": [
    {
     "name": "stdin",
     "output_type": "stream",
     "text": [
      "Enter the principal amount:  155\n",
      "Enter the rate of interest (in %):  10\n",
      "Enter the time period (in years):  15\n"
     ]
    },
    {
     "name": "stdout",
     "output_type": "stream",
     "text": [
      "The simple interest is: 232.50\n"
     ]
    }
   ],
   "source": [
    "#Q4:\n",
    "# Function to calculate simple interest\n",
    "def calculate_simple_interest(principal, rate, time):\n",
    "    # Formula to calculate simple interest: (P * R * T) / 100\n",
    "    simple_interest = (principal * rate * time) / 100\n",
    "    return simple_interest\n",
    "\n",
    "# Input: Principal amount, Rate of interest, and Time period\n",
    "principal = float(input(\"Enter the principal amount: \"))\n",
    "rate = float(input(\"Enter the rate of interest (in %): \"))\n",
    "time = float(input(\"Enter the time period (in years): \"))\n",
    "\n",
    "# Calculate simple interest\n",
    "simple_interest = calculate_simple_interest(principal, rate, time)\n",
    "\n",
    "# Output: Display the simple interest\n",
    "print(f\"The simple interest is: {simple_interest:.2f}\")\n"
   ]
  },
  {
   "cell_type": "code",
   "execution_count": 5,
   "id": "c5759bad-750e-4fbd-8863-7b743a5099c5",
   "metadata": {},
   "outputs": [
    {
     "name": "stdin",
     "output_type": "stream",
     "text": [
      "Enter the first number:  125\n",
      "Enter the second number:  121\n"
     ]
    },
    {
     "name": "stdout",
     "output_type": "stream",
     "text": [
      "Before swapping: num1 = 125.0, num2 = 121.0\n",
      "After swapping: num1 = 121.0, num2 = 125.0\n"
     ]
    }
   ],
   "source": [
    "#Q5:\n",
    "# Input: Two numbers\n",
    "num1 = float(input(\"Enter the first number: \"))\n",
    "num2 = float(input(\"Enter the second number: \"))\n",
    "\n",
    "print(f\"Before swapping: num1 = {num1}, num2 = {num2}\")\n",
    "\n",
    "# Swapping using addition and subtraction\n",
    "num1 = num1 + num2  # Step 1: Add num2 to num1\n",
    "num2 = num1 - num2  # Step 2: Subtract the new num2 from num1 to get the original num1\n",
    "num1 = num1 - num2  # Step 3: Subtract the new num2 from num1 to get the original num2\n",
    "\n",
    "# Output: Display the swapped numbers\n",
    "print(f\"After swapping: num1 = {num1}, num2 = {num2}\")\n"
   ]
  },
  {
   "cell_type": "code",
   "execution_count": 6,
   "id": "e40d9931-8bcc-4761-afb4-4cddfb1d1965",
   "metadata": {},
   "outputs": [
    {
     "name": "stdin",
     "output_type": "stream",
     "text": [
      "Enter the temperature in Celsius:  40\n"
     ]
    },
    {
     "name": "stdout",
     "output_type": "stream",
     "text": [
      "The temperature in Fahrenheit is: 104.00°F\n"
     ]
    }
   ],
   "source": [
    "#Q6:\n",
    "# Function to convert Celsius to Fahrenheit\n",
    "def celsius_to_fahrenheit(celsius):\n",
    "    # Formula to convert Celsius to Fahrenheit: (C * 9/5) + 32\n",
    "    fahrenheit = (celsius * 9/5) + 32\n",
    "    return fahrenheit\n",
    "\n",
    "# Input: Temperature in Celsius\n",
    "celsius = float(input(\"Enter the temperature in Celsius: \"))\n",
    "\n",
    "# Convert the temperature to Fahrenheit\n",
    "fahrenheit = celsius_to_fahrenheit(celsius)\n",
    "\n",
    "# Output: Display the temperature in Fahrenheit\n",
    "print(f\"The temperature in Fahrenheit is: {fahrenheit:.2f}°F\")\n"
   ]
  },
  {
   "cell_type": "code",
   "execution_count": 7,
   "id": "b6e72d0e-ba1b-401f-853a-5ab869591853",
   "metadata": {},
   "outputs": [
    {
     "name": "stdin",
     "output_type": "stream",
     "text": [
      "Enter the number of days:  12\n"
     ]
    },
    {
     "name": "stdout",
     "output_type": "stream",
     "text": [
      "12 days is equivalent to:\n",
      "0 year(s), 0 month(s), 1 week(s), and 5 day(s)\n"
     ]
    }
   ],
   "source": [
    "#Q7:\n",
    "# Function to convert days into years, months, weeks, and days\n",
    "def convert_days(total_days):\n",
    "    # Assume:\n",
    "    # 1 year = 365 days\n",
    "    # 1 month = 30 days (for simplicity, ignoring different month lengths)\n",
    "    # 1 week = 7 days\n",
    "    \n",
    "    years = total_days // 365  # Calculate number of years\n",
    "    remaining_days = total_days % 365  # Remaining days after extracting years\n",
    "    \n",
    "    months = remaining_days // 30  # Calculate number of months\n",
    "    remaining_days = remaining_days % 30  # Remaining days after extracting months\n",
    "    \n",
    "    weeks = remaining_days // 7  # Calculate number of weeks\n",
    "    days = remaining_days % 7  # Remaining days after extracting weeks\n",
    "    \n",
    "    return years, months, weeks, days\n",
    "\n",
    "# Input: Total number of days\n",
    "total_days = int(input(\"Enter the number of days: \"))\n",
    "\n",
    "# Convert the days\n",
    "years, months, weeks, days = convert_days(total_days)\n",
    "\n",
    "# Output: Display the result\n",
    "print(f\"{total_days} days is equivalent to:\")\n",
    "print(f\"{years} year(s), {months} month(s), {weeks} week(s), and {days} day(s)\")\n"
   ]
  },
  {
   "cell_type": "code",
   "execution_count": 8,
   "id": "5c969699-8e3e-4233-b402-e1f502f0257d",
   "metadata": {},
   "outputs": [
    {
     "name": "stdin",
     "output_type": "stream",
     "text": [
      "Enter the mass of the first object (in kg):  12\n",
      "Enter the mass of the second object (in kg):  14\n",
      "Enter the distance between the two objects (in meters):  10\n"
     ]
    },
    {
     "name": "stdout",
     "output_type": "stream",
     "text": [
      "The gravitational force between the two objects is: 1.12e-10 N\n"
     ]
    }
   ],
   "source": [
    "#Q8:\n",
    "# Function to calculate the gravitational force between two objects\n",
    "def calculate_gravitational_force(m1, m2, r):\n",
    "    # Gravitational constant (in N m^2/kg^2)\n",
    "    G = 6.67430e-11\n",
    "    # Formula to calculate gravitational force: F = G * (m1 * m2) / r^2\n",
    "    force = G * (m1 * m2) / (r ** 2)\n",
    "    return force\n",
    "\n",
    "# Input: Masses of the two objects (in kg) and the distance between them (in meters)\n",
    "mass1 = float(input(\"Enter the mass of the first object (in kg): \"))\n",
    "mass2 = float(input(\"Enter the mass of the second object (in kg): \"))\n",
    "distance = float(input(\"Enter the distance between the two objects (in meters): \"))\n",
    "\n",
    "# Calculate the gravitational force\n",
    "gravitational_force = calculate_gravitational_force(mass1, mass2, distance)\n",
    "\n",
    "# Output: Display the gravitational force\n",
    "print(f\"The gravitational force between the two objects is: {gravitational_force:.2e} N\")\n"
   ]
  },
  {
   "cell_type": "code",
   "execution_count": 9,
   "id": "de6b94c6-63d3-4fb3-bdd6-94865b78c055",
   "metadata": {},
   "outputs": [
    {
     "name": "stdin",
     "output_type": "stream",
     "text": [
      "Enter a number:  12\n"
     ]
    },
    {
     "name": "stdout",
     "output_type": "stream",
     "text": [
      "The number 12 is Even.\n"
     ]
    }
   ],
   "source": [
    "#Q9:\n",
    "# Function to check if a number is even or odd\n",
    "def check_even_odd(number):\n",
    "    if number % 2 == 0:\n",
    "        return \"Even\"\n",
    "    else:\n",
    "        return \"Odd\"\n",
    "\n",
    "# Input: A number from the user\n",
    "num = int(input(\"Enter a number: \"))\n",
    "\n",
    "# Determine if the number is even or odd\n",
    "result = check_even_odd(num)\n",
    "\n",
    "# Output: Display the result\n",
    "print(f\"The number {num} is {result}.\")\n"
   ]
  },
  {
   "cell_type": "code",
   "execution_count": 10,
   "id": "6a321ed7-aa75-4355-b74f-dec297d02b98",
   "metadata": {},
   "outputs": [
    {
     "name": "stdin",
     "output_type": "stream",
     "text": [
      "Enter a number:  122\n"
     ]
    },
    {
     "name": "stdout",
     "output_type": "stream",
     "text": [
      "The number is greater than 15.\n",
      "Two times the difference is: 214.00\n"
     ]
    }
   ],
   "source": [
    "#Q10:\n",
    "# Input: A number from the user\n",
    "number = float(input(\"Enter a number: \"))\n",
    "\n",
    "# Define the value to compare with\n",
    "comparison_value = 15\n",
    "\n",
    "# Calculate the difference\n",
    "difference = number - comparison_value\n",
    "\n",
    "# Check if the number is greater than or less than 15\n",
    "if number > comparison_value:\n",
    "    result = 2 * difference  # Two times the difference\n",
    "    print(f\"The number is greater than {comparison_value}.\")\n",
    "    print(f\"Two times the difference is: {result:.2f}\")\n",
    "else:\n",
    "    result = 4 * difference  # Four times the difference\n",
    "    print(f\"The number is less than or equal to {comparison_value}.\")\n",
    "    print(f\"Four times the difference is: {result:.2f}\")\n"
   ]
  },
  {
   "cell_type": "code",
   "execution_count": 11,
   "id": "724a2408-66ec-4872-837d-54809c221f66",
   "metadata": {},
   "outputs": [
    {
     "name": "stdin",
     "output_type": "stream",
     "text": [
      "Enter the first number:  12\n",
      "Enter the second number:  10\n",
      "Enter the third number:  17\n"
     ]
    },
    {
     "name": "stdout",
     "output_type": "stream",
     "text": [
      "The largest among the three numbers is: 17.0\n"
     ]
    }
   ],
   "source": [
    "#Q11:\n",
    "# Function to find the largest among three numbers\n",
    "def find_largest(num1, num2, num3):\n",
    "    if num1 >= num2 and num1 >= num3:\n",
    "        return num1\n",
    "    elif num2 >= num1 and num2 >= num3:\n",
    "        return num2\n",
    "    else:\n",
    "        return num3\n",
    "\n",
    "# Input: Three numbers from the user\n",
    "number1 = float(input(\"Enter the first number: \"))\n",
    "number2 = float(input(\"Enter the second number: \"))\n",
    "number3 = float(input(\"Enter the third number: \"))\n",
    "\n",
    "# Find the largest number\n",
    "largest_number = find_largest(number1, number2, number3)\n",
    "\n",
    "# Output: Display the largest number\n",
    "print(f\"The largest among the three numbers is: {largest_number}\")\n"
   ]
  },
  {
   "cell_type": "code",
   "execution_count": 12,
   "id": "52506507-197b-4eb9-a36f-c0a295ff4f33",
   "metadata": {},
   "outputs": [
    {
     "name": "stdin",
     "output_type": "stream",
     "text": [
      "Enter the length of the first side:  152\n",
      "Enter the length of the second side:  142\n",
      "Enter the length of the third side:  123\n"
     ]
    },
    {
     "name": "stdout",
     "output_type": "stream",
     "text": [
      "The triangle is: Scalene triangle\n"
     ]
    }
   ],
   "source": [
    "#Q12:\n",
    "# Function to determine the type of triangle\n",
    "def triangle_type(side1, side2, side3):\n",
    "    if side1 <= 0 or side2 <= 0 or side3 <= 0:\n",
    "        return \"Invalid triangle sides. All sides must be positive.\"\n",
    "    \n",
    "    if side1 == side2 == side3:\n",
    "        return \"Equilateral triangle\"\n",
    "    elif side1 == side2 or side2 == side3 or side1 == side3:\n",
    "        return \"Isosceles triangle\"\n",
    "    else:\n",
    "        return \"Scalene triangle\"\n",
    "\n",
    "# Input: Lengths of the sides of the triangle\n",
    "side1 = float(input(\"Enter the length of the first side: \"))\n",
    "side2 = float(input(\"Enter the length of the second side: \"))\n",
    "side3 = float(input(\"Enter the length of the third side: \"))\n",
    "\n",
    "# Determine the type of triangle\n",
    "result = triangle_type(side1, side2, side3)\n",
    "\n",
    "# Output: Display the type of triangle\n",
    "print(f\"The triangle is: {result}\")\n"
   ]
  },
  {
   "cell_type": "code",
   "execution_count": 13,
   "id": "32f9bb00-cf13-49a4-a05a-e22a6b031788",
   "metadata": {},
   "outputs": [
    {
     "name": "stdin",
     "output_type": "stream",
     "text": [
      "Enter a year:  45\n"
     ]
    },
    {
     "name": "stdout",
     "output_type": "stream",
     "text": [
      "45 is not a leap year.\n"
     ]
    }
   ],
   "source": [
    "#Q13:\n",
    "# Function to check if a year is a leap year\n",
    "def is_leap_year(year):\n",
    "    if (year % 4 == 0 and year % 100 != 0) or (year % 400 == 0):\n",
    "        return True\n",
    "    else:\n",
    "        return False\n",
    "\n",
    "# Input: Year from the user\n",
    "year = int(input(\"Enter a year: \"))\n",
    "\n",
    "# Check if the year is a leap year\n",
    "if is_leap_year(year):\n",
    "    print(f\"{year} is a leap year.\")\n",
    "else:\n",
    "    print(f\"{year} is not a leap year.\")\n"
   ]
  },
  {
   "cell_type": "code",
   "execution_count": 14,
   "id": "03084a84-e208-4ccf-9e34-565cd4393dba",
   "metadata": {},
   "outputs": [
    {
     "name": "stdin",
     "output_type": "stream",
     "text": [
      "Enter marks for subject 1:  15\n",
      "Enter marks for subject 2:  20\n",
      "Enter marks for subject 3:  25\n",
      "Enter marks for subject 4:  14\n"
     ]
    },
    {
     "name": "stdout",
     "output_type": "stream",
     "text": [
      "The average marks are: 18.50\n",
      "The grade is: D\n"
     ]
    }
   ],
   "source": [
    "#Q14:\n",
    "\n",
    "# Function to calculate the average and determine the grade\n",
    "def calculate_grade(marks):\n",
    "    average = sum(marks) / len(marks)  # Calculate average\n",
    "\n",
    "    # Determine grade based on average\n",
    "    if average >= 75:\n",
    "        grade = 'A'\n",
    "    elif average >= 60:\n",
    "        grade = 'B'\n",
    "    elif average >= 40:\n",
    "        grade = 'C'\n",
    "    else:\n",
    "        grade = 'D'\n",
    "\n",
    "    return average, grade\n",
    "\n",
    "# Input: Marks in four subjects\n",
    "marks = []\n",
    "for i in range(4):\n",
    "    mark = float(input(f\"Enter marks for subject {i + 1}: \"))\n",
    "    marks.append(mark)\n",
    "\n",
    "# Calculate average and grade\n",
    "average, grade = calculate_grade(marks)\n",
    "\n",
    "# Output: Display the average and grade\n",
    "print(f\"The average marks are: {average:.2f}\")\n",
    "print(f\"The grade is: {grade}\")\n"
   ]
  },
  {
   "cell_type": "code",
   "execution_count": 15,
   "id": "5fc9d6d0-6d27-412b-ac48-14df5a0c4fd2",
   "metadata": {},
   "outputs": [
    {
     "name": "stdin",
     "output_type": "stream",
     "text": [
      "Enter the first number:  15\n",
      "Enter the second number:  27\n",
      "Enter the operator (+, -, *, /):  14\n"
     ]
    },
    {
     "name": "stdout",
     "output_type": "stream",
     "text": [
      "The result is: Invalid operator.\n"
     ]
    }
   ],
   "source": [
    "#Q15:\n",
    "# Function to perform the calculation\n",
    "def calculate(num1, num2, operator):\n",
    "    if operator == '+':\n",
    "        return num1 + num2\n",
    "    elif operator == '-':\n",
    "        return num1 - num2\n",
    "    elif operator == '*':\n",
    "        return num1 * num2\n",
    "    elif operator == '/':\n",
    "        if num2 != 0:\n",
    "            return num1 / num2\n",
    "        else:\n",
    "            return \"Error! Division by zero.\"\n",
    "    else:\n",
    "        return \"Invalid operator.\"\n",
    "\n",
    "# Input: Take two numbers and an operator from the user\n",
    "num1 = float(input(\"Enter the first number: \"))\n",
    "num2 = float(input(\"Enter the second number: \"))\n",
    "operator = input(\"Enter the operator (+, -, *, /): \")\n",
    "\n",
    "# Perform the calculation\n",
    "result = calculate(num1, num2, operator)\n",
    "\n",
    "# Output: Display the result\n",
    "print(f\"The result is: {result}\")\n"
   ]
  },
  {
   "cell_type": "code",
   "execution_count": 16,
   "id": "9753298a-9bb6-4366-8fb6-0c74a83ee2bf",
   "metadata": {},
   "outputs": [
    {
     "name": "stdin",
     "output_type": "stream",
     "text": [
      "Enter the coefficient a:  15\n",
      "Enter the coefficient b:  54\n",
      "Enter the coefficient c:  17\n"
     ]
    },
    {
     "name": "stdout",
     "output_type": "stream",
     "text": [
      "The roots of the quadratic equation are: (-0.348563929528184+0j) and (-3.2514360704718164+0j)\n"
     ]
    }
   ],
   "source": [
    "#Q16:\n",
    "import cmath  # Importing cmath to handle complex numbers\n",
    "\n",
    "# Function to find the roots of a quadratic equation\n",
    "def find_roots(a, b, c):\n",
    "    # Calculate the discriminant\n",
    "    discriminant = b**2 - 4*a*c\n",
    "    \n",
    "    # Calculate the two roots using the quadratic formula\n",
    "    root1 = (-b + cmath.sqrt(discriminant)) / (2 * a)\n",
    "    root2 = (-b - cmath.sqrt(discriminant)) / (2 * a)\n",
    "    \n",
    "    return root1, root2\n",
    "\n",
    "# Input: Coefficients of the quadratic equation\n",
    "a = float(input(\"Enter the coefficient a: \"))\n",
    "b = float(input(\"Enter the coefficient b: \"))\n",
    "c = float(input(\"Enter the coefficient c: \"))\n",
    "\n",
    "# Ensure that 'a' is not zero\n",
    "if a == 0:\n",
    "    print(\"Coefficient 'a' cannot be zero for a quadratic equation.\")\n",
    "else:\n",
    "    # Find the roots\n",
    "    root1, root2 = find_roots(a, b, c)\n",
    "    \n",
    "    # Output: Display the roots\n",
    "    print(f\"The roots of the quadratic equation are: {root1} and {root2}\")\n"
   ]
  },
  {
   "cell_type": "code",
   "execution_count": 17,
   "id": "01552fe9-7b79-442b-a50a-9941fd73295b",
   "metadata": {},
   "outputs": [
    {
     "name": "stdin",
     "output_type": "stream",
     "text": [
      "Enter a positive integer n:  15\n"
     ]
    },
    {
     "name": "stdout",
     "output_type": "stream",
     "text": [
      "1\n",
      "2\n",
      "3\n",
      "4\n",
      "5\n",
      "6\n",
      "7\n",
      "8\n",
      "9\n",
      "10\n",
      "11\n",
      "12\n",
      "13\n",
      "14\n",
      "15\n"
     ]
    }
   ],
   "source": [
    "#Q17:\n",
    "# Input: Take a number n from the user\n",
    "n = int(input(\"Enter a positive integer n: \"))\n",
    "\n",
    "# Print numbers from 1 to n\n",
    "for i in range(1, n + 1):\n",
    "    print(i)\n"
   ]
  },
  {
   "cell_type": "code",
   "execution_count": 18,
   "id": "5b1580b0-6b5c-4210-887c-b5bfb380d35f",
   "metadata": {},
   "outputs": [
    {
     "name": "stdin",
     "output_type": "stream",
     "text": [
      "Enter a positive integer n:  15\n"
     ]
    },
    {
     "name": "stdout",
     "output_type": "stream",
     "text": [
      "The sum of natural numbers from 1 to 15 is: 120\n"
     ]
    }
   ],
   "source": [
    "#18:\n",
    "# Input: Take a number n from the user\n",
    "n = int(input(\"Enter a positive integer n: \"))\n",
    "\n",
    "# Initialize sum\n",
    "sum_natural = 0\n",
    "\n",
    "# Calculate the sum of natural numbers\n",
    "for i in range(1, n + 1):\n",
    "    sum_natural += i\n",
    "\n",
    "# Output: Display the sum\n",
    "print(f\"The sum of natural numbers from 1 to {n} is: {sum_natural}\")\n"
   ]
  },
  {
   "cell_type": "code",
   "execution_count": 19,
   "id": "5d3e836d-48c4-4c27-83e5-b1274d91b132",
   "metadata": {},
   "outputs": [
    {
     "name": "stdin",
     "output_type": "stream",
     "text": [
      "Enter a positive integer:  15\n"
     ]
    },
    {
     "name": "stdout",
     "output_type": "stream",
     "text": [
      "The sum of the digits of 15 is: 6\n"
     ]
    }
   ],
   "source": [
    "#Q19:\n",
    "# Function to calculate the sum of digits\n",
    "def sum_of_digits(number):\n",
    "    # Initialize sum\n",
    "    total = 0\n",
    "    \n",
    "    # Loop through each digit in the number\n",
    "    while number > 0:\n",
    "        digit = number % 10  # Get the last digit\n",
    "        total += digit       # Add the digit to the total\n",
    "        number //= 10        # Remove the last digit from the number\n",
    "    \n",
    "    return total\n",
    "\n",
    "# Input: Take a number from the user\n",
    "num = int(input(\"Enter a positive integer: \"))\n",
    "\n",
    "# Calculate the sum of digits\n",
    "result = sum_of_digits(num)\n",
    "\n",
    "# Output: Display the result\n",
    "print(f\"The sum of the digits of {num} is: {result}\")\n"
   ]
  },
  {
   "cell_type": "code",
   "execution_count": 20,
   "id": "df5146d0-279d-46c4-8122-bb66ef723c73",
   "metadata": {},
   "outputs": [
    {
     "name": "stdin",
     "output_type": "stream",
     "text": [
      "Enter a positive integer:  15\n"
     ]
    },
    {
     "name": "stdout",
     "output_type": "stream",
     "text": [
      "Factors of 15 are:\n",
      "1\n",
      "3\n",
      "5\n",
      "15\n"
     ]
    }
   ],
   "source": [
    "#Q20:\n",
    "# Function to find and print factors of a number\n",
    "def print_factors(number):\n",
    "    print(f\"Factors of {number} are:\")\n",
    "    for i in range(1, number + 1):\n",
    "        if number % i == 0:\n",
    "            print(i)\n",
    "\n",
    "# Input: Take a number from the user\n",
    "num = int(input(\"Enter a positive integer: \"))\n",
    "\n",
    "# Print the factors of the number\n",
    "print_factors(num)\n"
   ]
  },
  {
   "cell_type": "code",
   "execution_count": 21,
   "id": "d3895044-f029-4b74-b5a6-7ac2dd041450",
   "metadata": {},
   "outputs": [
    {
     "name": "stdin",
     "output_type": "stream",
     "text": [
      "Enter a number:  15\n"
     ]
    },
    {
     "name": "stdout",
     "output_type": "stream",
     "text": [
      "Reversed Number: 51\n"
     ]
    }
   ],
   "source": [
    "#Q21:\n",
    "def reverse_number(num):\n",
    "    # Convert the number to a string and reverse it\n",
    "    reversed_num = str(num)[::-1]\n",
    "    return int(reversed_num)  # Convert back to integer if needed\n",
    "\n",
    "# Input from the user\n",
    "number = int(input(\"Enter a number: \"))\n",
    "reversed_number = reverse_number(number)\n",
    "print(\"Reversed Number:\", reversed_number)\n"
   ]
  },
  {
   "cell_type": "code",
   "execution_count": 22,
   "id": "bca5b440-10d4-4f35-a43f-adc2966f0ba5",
   "metadata": {},
   "outputs": [
    {
     "name": "stdin",
     "output_type": "stream",
     "text": [
      "Enter a number:  154\n"
     ]
    },
    {
     "name": "stdout",
     "output_type": "stream",
     "text": [
      "Factorial (Iterative): 30897696138473508879585646703632404659201907040888820477871589289865505687886666220300447285640952619071680544337494109264649994680187591361311072737951454695525676891035640863743200899694758450943586711068571022031011228320107310612480000000000000000000000000000000000000\n"
     ]
    }
   ],
   "source": [
    "#Q22:\n",
    "def factorial_iterative(n):\n",
    "    if n < 0:\n",
    "        return \"Factorial is not defined for negative numbers.\"\n",
    "    result = 1\n",
    "    for i in range(2, n + 1):\n",
    "        result *= i\n",
    "    return result\n",
    "\n",
    "# Input from the user\n",
    "number = int(input(\"Enter a number: \"))\n",
    "print(\"Factorial (Iterative):\", factorial_iterative(number))\n"
   ]
  },
  {
   "cell_type": "code",
   "execution_count": 23,
   "id": "16e603f2-eb79-4568-9cdf-3a32685334f3",
   "metadata": {},
   "outputs": [
    {
     "name": "stdin",
     "output_type": "stream",
     "text": [
      "Enter a number:  154\n"
     ]
    },
    {
     "name": "stdout",
     "output_type": "stream",
     "text": [
      "Factorial (Recursive): 30897696138473508879585646703632404659201907040888820477871589289865505687886666220300447285640952619071680544337494109264649994680187591361311072737951454695525676891035640863743200899694758450943586711068571022031011228320107310612480000000000000000000000000000000000000\n"
     ]
    }
   ],
   "source": [
    "#Q23:\n",
    "def factorial_recursive(n):\n",
    "    if n < 0:\n",
    "        return \"Factorial is not defined for negative numbers.\"\n",
    "    if n == 0 or n == 1:\n",
    "        return 1\n",
    "    return n * factorial_recursive(n - 1)\n",
    "\n",
    "# Input from the user\n",
    "number = int(input(\"Enter a number: \"))\n",
    "print(\"Factorial (Recursive):\", factorial_recursive(number))\n"
   ]
  },
  {
   "cell_type": "code",
   "execution_count": 24,
   "id": "486303c6-d41c-472a-8675-76955d0ecf11",
   "metadata": {},
   "outputs": [
    {
     "name": "stdin",
     "output_type": "stream",
     "text": [
      "Enter a number:  12\n"
     ]
    },
    {
     "name": "stdout",
     "output_type": "stream",
     "text": [
      "12 is not a palindrome.\n"
     ]
    }
   ],
   "source": [
    "#24:\n",
    "def is_palindrome(num):\n",
    "    # Convert the number to a string\n",
    "    str_num = str(num)\n",
    "    # Check if the string is the same forwards and backwards\n",
    "    return str_num == str_num[::-1]\n",
    "\n",
    "# Input from the user\n",
    "number = int(input(\"Enter a number: \"))\n",
    "if is_palindrome(number):\n",
    "    print(f\"{number} is a palindrome.\")\n",
    "else:\n",
    "    print(f\"{number} is not a palindrome.\")\n"
   ]
  },
  {
   "cell_type": "code",
   "execution_count": 25,
   "id": "9de52f62-dc51-4bf0-99ee-c94fc4da17cb",
   "metadata": {},
   "outputs": [
    {
     "name": "stdin",
     "output_type": "stream",
     "text": [
      "Enter a number:  25\n"
     ]
    },
    {
     "name": "stdout",
     "output_type": "stream",
     "text": [
      "25 is not a prime number.\n"
     ]
    }
   ],
   "source": [
    "#Q25:\n",
    "def is_prime(num):\n",
    "    if num <= 1:\n",
    "        return False  # Numbers less than or equal to 1 are not prime\n",
    "    for i in range(2, int(num**0.5) + 1):\n",
    "        if num % i == 0:\n",
    "            return False  # If divisible by any number other than 1 and itself, it's not prime\n",
    "    return True  # If no divisors were found, it is prime\n",
    "\n",
    "# Input from the user\n",
    "number = int(input(\"Enter a number: \"))\n",
    "if is_prime(number):\n",
    "    print(f\"{number} is a prime number.\")\n",
    "else:\n",
    "    print(f\"{number} is not a prime number.\")\n"
   ]
  },
  {
   "cell_type": "code",
   "execution_count": 26,
   "id": "6750c86f-3e8a-40dc-8fa3-f258ae3bc588",
   "metadata": {},
   "outputs": [
    {
     "name": "stdin",
     "output_type": "stream",
     "text": [
      "Enter a number:  154\n"
     ]
    },
    {
     "name": "stdout",
     "output_type": "stream",
     "text": [
      "154 is not an Armstrong number.\n"
     ]
    }
   ],
   "source": [
    "#Q26:\n",
    "def is_armstrong(num):\n",
    "    # Convert the number to a string to get the digits\n",
    "    str_num = str(num)\n",
    "    num_digits = len(str_num)\n",
    "    \n",
    "    # Calculate the sum of the digits raised to the power of the number of digits\n",
    "    sum_of_powers = sum(int(digit) ** num_digits for digit in str_num)\n",
    "    \n",
    "    # Check if the sum is equal to the original number\n",
    "    return sum_of_powers == num\n",
    "\n",
    "# Input from the user\n",
    "number = int(input(\"Enter a number: \"))\n",
    "if is_armstrong(number):\n",
    "    print(f\"{number} is an Armstrong number.\")\n",
    "else:\n",
    "    print(f\"{number} is not an Armstrong number.\")\n"
   ]
  },
  {
   "cell_type": "code",
   "execution_count": 27,
   "id": "ffde6b80-44ea-4bfd-8c66-da314abc512a",
   "metadata": {},
   "outputs": [
    {
     "name": "stdin",
     "output_type": "stream",
     "text": [
      "Enter the number of terms in the Fibonacci series:  123\n"
     ]
    },
    {
     "name": "stdout",
     "output_type": "stream",
     "text": [
      "Fibonacci series:\n",
      "[0, 1, 1, 2, 3, 5, 8, 13, 21, 34, 55, 89, 144, 233, 377, 610, 987, 1597, 2584, 4181, 6765, 10946, 17711, 28657, 46368, 75025, 121393, 196418, 317811, 514229, 832040, 1346269, 2178309, 3524578, 5702887, 9227465, 14930352, 24157817, 39088169, 63245986, 102334155, 165580141, 267914296, 433494437, 701408733, 1134903170, 1836311903, 2971215073, 4807526976, 7778742049, 12586269025, 20365011074, 32951280099, 53316291173, 86267571272, 139583862445, 225851433717, 365435296162, 591286729879, 956722026041, 1548008755920, 2504730781961, 4052739537881, 6557470319842, 10610209857723, 17167680177565, 27777890035288, 44945570212853, 72723460248141, 117669030460994, 190392490709135, 308061521170129, 498454011879264, 806515533049393, 1304969544928657, 2111485077978050, 3416454622906707, 5527939700884757, 8944394323791464, 14472334024676221, 23416728348467685, 37889062373143906, 61305790721611591, 99194853094755497, 160500643816367088, 259695496911122585, 420196140727489673, 679891637638612258, 1100087778366101931, 1779979416004714189, 2880067194370816120, 4660046610375530309, 7540113804746346429, 12200160415121876738, 19740274219868223167, 31940434634990099905, 51680708854858323072, 83621143489848422977, 135301852344706746049, 218922995834555169026, 354224848179261915075, 573147844013817084101, 927372692193078999176, 1500520536206896083277, 2427893228399975082453, 3928413764606871165730, 6356306993006846248183, 10284720757613717413913, 16641027750620563662096, 26925748508234281076009, 43566776258854844738105, 70492524767089125814114, 114059301025943970552219, 184551825793033096366333, 298611126818977066918552, 483162952612010163284885, 781774079430987230203437, 1264937032042997393488322, 2046711111473984623691759, 3311648143516982017180081, 5358359254990966640871840, 8670007398507948658051921, 14028366653498915298923761]\n"
     ]
    }
   ],
   "source": [
    "#Q27:\n",
    "def fibonacci_series(n):\n",
    "    fib_series = []\n",
    "    a, b = 0, 1  # Starting values for the Fibonacci sequence\n",
    "    for _ in range(n):\n",
    "        fib_series.append(a)\n",
    "        a, b = b, a + b  # Update values for the next term\n",
    "    return fib_series\n",
    "\n",
    "# Input from the user\n",
    "n = int(input(\"Enter the number of terms in the Fibonacci series: \"))\n",
    "if n <= 0:\n",
    "    print(\"Please enter a positive integer.\")\n",
    "else:\n",
    "    print(\"Fibonacci series:\")\n",
    "    print(fibonacci_series(n))\n"
   ]
  },
  {
   "cell_type": "code",
   "execution_count": 28,
   "id": "b148d13a-b87a-4a28-9ce3-376343afb6df",
   "metadata": {},
   "outputs": [
    {
     "name": "stdin",
     "output_type": "stream",
     "text": [
      "Enter a number to display its multiplication table:  23\n",
      "Enter the number of terms for the multiplication table (default is 10):  12\n"
     ]
    },
    {
     "name": "stdout",
     "output_type": "stream",
     "text": [
      "Multiplication Table for 23:\n",
      "23 x 1 = 23\n",
      "23 x 2 = 46\n",
      "23 x 3 = 69\n",
      "23 x 4 = 92\n",
      "23 x 5 = 115\n",
      "23 x 6 = 138\n",
      "23 x 7 = 161\n",
      "23 x 8 = 184\n",
      "23 x 9 = 207\n",
      "23 x 10 = 230\n",
      "23 x 11 = 253\n",
      "23 x 12 = 276\n"
     ]
    }
   ],
   "source": [
    "#Q28:\n",
    "def multiplication_table(num, terms=10):\n",
    "    print(f\"Multiplication Table for {num}:\")\n",
    "    for i in range(1, terms + 1):\n",
    "        print(f\"{num} x {i} = {num * i}\")\n",
    "\n",
    "# Input from the user\n",
    "number = int(input(\"Enter a number to display its multiplication table: \"))\n",
    "terms = int(input(\"Enter the number of terms for the multiplication table (default is 10): \") or 10)\n",
    "\n",
    "multiplication_table(number, terms)\n"
   ]
  },
  {
   "cell_type": "code",
   "execution_count": 29,
   "id": "f0f89cf4-d9fb-413e-b7d2-6138af3a486d",
   "metadata": {},
   "outputs": [
    {
     "name": "stdin",
     "output_type": "stream",
     "text": [
      "Enter elements of the list separated by spaces:  154\n"
     ]
    },
    {
     "name": "stdout",
     "output_type": "stream",
     "text": [
      "The list you entered is: ['154']\n"
     ]
    }
   ],
   "source": [
    "#Q29:\n",
    "def input_list():\n",
    "    user_input = input(\"Enter elements of the list separated by spaces: \")\n",
    "    # Split the input string into a list of elements\n",
    "    input_list = user_input.split()\n",
    "    return input_list\n",
    "\n",
    "# Get the list from the user\n",
    "user_list = input_list()\n",
    "\n",
    "# Print the list\n",
    "print(\"The list you entered is:\", user_list)\n"
   ]
  },
  {
   "cell_type": "code",
   "execution_count": 31,
   "id": "942c05cf-391e-47bb-a15a-2266cf106a6b",
   "metadata": {},
   "outputs": [
    {
     "name": "stdin",
     "output_type": "stream",
     "text": [
      "Enter numbers separated by spaces:  1 2 3 2 2 2\n"
     ]
    },
    {
     "name": "stdout",
     "output_type": "stream",
     "text": [
      "The average of the entered numbers is: 2.0\n"
     ]
    }
   ],
   "source": [
    "#Q30\n",
    "def calculate_average(numbers):\n",
    "    return sum(numbers) / len(numbers) if numbers else 0\n",
    "\n",
    "def input_numbers():\n",
    "    user_input = input(\"Enter numbers separated by spaces: \")\n",
    "    # Convert input string into a list of floats\n",
    "    input_list = [float(num) for num in user_input.split()]\n",
    "    return input_list\n",
    "\n",
    "# Get the list of numbers from the user\n",
    "numbers = input_numbers()\n",
    "\n",
    "# Calculate and print the average\n",
    "average = calculate_average(numbers)\n",
    "print(\"The average of the entered numbers is:\", average)\n"
   ]
  },
  {
   "cell_type": "code",
   "execution_count": 33,
   "id": "761a19bb-031e-4ad6-b3e6-45d993bb6ce6",
   "metadata": {},
   "outputs": [
    {
     "name": "stdin",
     "output_type": "stream",
     "text": [
      "Enter numbers separated by spaces:  1 2 5 8 8 9 \n"
     ]
    },
    {
     "name": "stdout",
     "output_type": "stream",
     "text": [
      "The largest element in the list is: 9.0\n"
     ]
    }
   ],
   "source": [
    "#Q 31:\n",
    "def find_largest(numbers):\n",
    "    if not numbers:\n",
    "        return None  # Return None if the list is empty\n",
    "    largest = numbers[0]  # Assume the first number is the largest\n",
    "    for num in numbers:\n",
    "        if num > largest:\n",
    "            largest = num  # Update largest if a bigger number is found\n",
    "    return largest\n",
    "\n",
    "def input_numbers():\n",
    "    user_input = input(\"Enter numbers separated by spaces: \")\n",
    "    # Convert input string into a list of floats\n",
    "    input_list = [float(num) for num in user_input.split()]\n",
    "    return input_list\n",
    "\n",
    "# Get the list of numbers from the user\n",
    "numbers = input_numbers()\n",
    "\n",
    "# Find and print the largest element\n",
    "largest_element = find_largest(numbers)\n",
    "if largest_element is not None:\n",
    "    print(\"The largest element in the list is:\", largest_element)\n",
    "else:\n",
    "    print(\"The list is empty.\")\n",
    "\n"
   ]
  },
  {
   "cell_type": "code",
   "execution_count": 34,
   "id": "de386c02-fbfd-4c87-926c-982130712bc8",
   "metadata": {},
   "outputs": [
    {
     "name": "stdin",
     "output_type": "stream",
     "text": [
      "Enter numbers separated by spaces:  156 25 58 8 8\n",
      "Enter the number to search for:  25\n"
     ]
    },
    {
     "name": "stdout",
     "output_type": "stream",
     "text": [
      "The number 25 is found at index 1.\n"
     ]
    }
   ],
   "source": [
    "#32:\n",
    "def linear_search(arr, target):\n",
    "    for index, value in enumerate(arr):\n",
    "        if value == target:\n",
    "            return index  # Return the index if the target is found\n",
    "    return -1  # Return -1 if the target is not found\n",
    "\n",
    "def input_numbers():\n",
    "    user_input = input(\"Enter numbers separated by spaces: \")\n",
    "    # Convert input string into a list of integers\n",
    "    input_list = [int(num) for num in user_input.split()]\n",
    "    return input_list\n",
    "\n",
    "# Get the list of numbers from the user\n",
    "numbers = input_numbers()\n",
    "\n",
    "# Input the target number to search for\n",
    "target = int(input(\"Enter the number to search for: \"))\n",
    "\n",
    "# Perform linear search\n",
    "result = linear_search(numbers, target)\n",
    "\n",
    "# Print the result\n",
    "if result != -1:\n",
    "    print(f\"The number {target} is found at index {result}.\")\n",
    "else:\n",
    "    print(f\"The number {target} is not found in the list.\")\n"
   ]
  },
  {
   "cell_type": "code",
   "execution_count": 35,
   "id": "e24c0019-9dea-43fb-936b-2ad21f2e33c3",
   "metadata": {},
   "outputs": [
    {
     "name": "stdout",
     "output_type": "stream",
     "text": [
      "Enter lines of text (press 'Enter' twice to stop):\n"
     ]
    },
    {
     "name": "stdin",
     "output_type": "stream",
     "text": [
      " hello good morning\n",
      " by good night\n",
      " \n"
     ]
    },
    {
     "name": "stdout",
     "output_type": "stream",
     "text": [
      "HELLO GOOD MORNING\n",
      "BY GOOD NIGHT\n"
     ]
    }
   ],
   "source": [
    "#Q33:\n",
    "def capitalize_lines():\n",
    "    print(\"Enter lines of text (press 'Enter' twice to stop):\")\n",
    "    lines = []\n",
    "    \n",
    "    while True:\n",
    "        line = input()\n",
    "        if line == \"\":  # Stop if an empty line is entered\n",
    "            break\n",
    "        lines.append(line)\n",
    "\n",
    "    # Capitalize each line and print\n",
    "    for line in lines:\n",
    "        print(line.upper())\n",
    "\n",
    "# Call the function to execute the program\n",
    "capitalize_lines()\n"
   ]
  },
  {
   "cell_type": "code",
   "execution_count": 37,
   "id": "eb8d422d-76b4-4694-99ec-36e1b0ab6b04",
   "metadata": {},
   "outputs": [
    {
     "name": "stdin",
     "output_type": "stream",
     "text": [
      "Enter a sequence of comma-separated numbers:  19\n"
     ]
    },
    {
     "name": "stdout",
     "output_type": "stream",
     "text": [
      "List: ['19']\n",
      "Tuple: ('19',)\n"
     ]
    }
   ],
   "source": [
    "#Q34:\n",
    "def generate_list_and_tuple():\n",
    "    # Accept input from the user\n",
    "    user_input = input(\"Enter a sequence of comma-separated numbers: \")\n",
    "    \n",
    "    # Generate a list from the input\n",
    "    number_list = user_input.split(\",\")\n",
    "    \n",
    "    # Generate a tuple from the list\n",
    "    number_tuple = tuple(number_list)\n",
    "    \n",
    "    # Print the results\n",
    "    print(\"List:\", number_list)\n",
    "    print(\"Tuple:\", number_tuple)\n",
    "\n",
    "# Call the function to execute the program\n",
    "generate_list_and_tuple()\n"
   ]
  },
  {
   "cell_type": "code",
   "execution_count": 39,
   "id": "94c64165-7505-4c43-b7f9-2b852754e6f4",
   "metadata": {},
   "outputs": [
    {
     "name": "stdout",
     "output_type": "stream",
     "text": [
      "Enter transaction log (D for deposit, W for withdrawal, enter 'done' to finish):\n"
     ]
    },
    {
     "name": "stdin",
     "output_type": "stream",
     "text": [
      " D 500\n",
      " W 200\n",
      " D 100\n",
      " D 150\n",
      " done\n"
     ]
    },
    {
     "name": "stdout",
     "output_type": "stream",
     "text": [
      "Net Amount: 550\n"
     ]
    }
   ],
   "source": [
    "#Q34:\n",
    "def compute_net_amount():\n",
    "    net_amount = 0\n",
    "    print(\"Enter transaction log (D for deposit, W for withdrawal, enter 'done' to finish):\")\n",
    "    \n",
    "    while True:\n",
    "        transaction = input()\n",
    "        if transaction.lower() == 'done':  # Check for the end of input\n",
    "            break\n",
    "        \n",
    "        # Split the transaction into type and amount\n",
    "        action, amount = transaction.split()\n",
    "        amount = int(amount)  # Convert amount to integer\n",
    "        \n",
    "        # Update net amount based on the action\n",
    "        if action.upper() == 'D':\n",
    "            net_amount += amount  # Deposit\n",
    "        elif action.upper() == 'W':\n",
    "            net_amount -= amount  # Withdrawal\n",
    "\n",
    "    # Print the final net amount\n",
    "    print(\"Net Amount:\", net_amount)\n",
    "\n",
    "# Call the function to execute the program\n",
    "compute_net_amount()\n"
   ]
  },
  {
   "cell_type": "code",
   "execution_count": null,
   "id": "1a2e971e-d0bb-464c-a694-f84ba345eabd",
   "metadata": {},
   "outputs": [],
   "source": []
  }
 ],
 "metadata": {
  "kernelspec": {
   "display_name": "Python 3 (ipykernel)",
   "language": "python",
   "name": "python3"
  },
  "language_info": {
   "codemirror_mode": {
    "name": "ipython",
    "version": 3
   },
   "file_extension": ".py",
   "mimetype": "text/x-python",
   "name": "python",
   "nbconvert_exporter": "python",
   "pygments_lexer": "ipython3",
   "version": "3.12.4"
  }
 },
 "nbformat": 4,
 "nbformat_minor": 5
}
